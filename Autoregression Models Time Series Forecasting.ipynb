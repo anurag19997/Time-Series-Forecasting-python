{
 "cells": [
  {
   "cell_type": "code",
   "execution_count": 48,
   "metadata": {},
   "outputs": [],
   "source": [
    "import pandas as pd\n",
    "import numpy as np\n",
    "from sklearn import linear_model, datasets\n",
    "from sklearn.metrics import mean_squared_error\n",
    "import matplotlib.pyplot as plt"
   ]
  },
  {
   "cell_type": "code",
   "execution_count": 2,
   "metadata": {},
   "outputs": [
    {
     "data": {
      "text/html": [
       "<div>\n",
       "<style scoped>\n",
       "    .dataframe tbody tr th:only-of-type {\n",
       "        vertical-align: middle;\n",
       "    }\n",
       "\n",
       "    .dataframe tbody tr th {\n",
       "        vertical-align: top;\n",
       "    }\n",
       "\n",
       "    .dataframe thead th {\n",
       "        text-align: right;\n",
       "    }\n",
       "</style>\n",
       "<table border=\"1\" class=\"dataframe\">\n",
       "  <thead>\n",
       "    <tr style=\"text-align: right;\">\n",
       "      <th></th>\n",
       "      <th>Date</th>\n",
       "      <th>Open</th>\n",
       "      <th>High</th>\n",
       "      <th>Low</th>\n",
       "      <th>Last</th>\n",
       "      <th>Close</th>\n",
       "      <th>Total Trade Quantity</th>\n",
       "      <th>Turnover (Lacs)</th>\n",
       "    </tr>\n",
       "  </thead>\n",
       "  <tbody>\n",
       "    <tr>\n",
       "      <th>0</th>\n",
       "      <td>2018-08-17</td>\n",
       "      <td>9243.00</td>\n",
       "      <td>9286.50</td>\n",
       "      <td>9130.00</td>\n",
       "      <td>9149.95</td>\n",
       "      <td>9152.10</td>\n",
       "      <td>477538.0</td>\n",
       "      <td>44002.98</td>\n",
       "    </tr>\n",
       "    <tr>\n",
       "      <th>1</th>\n",
       "      <td>2018-08-16</td>\n",
       "      <td>9124.00</td>\n",
       "      <td>9235.95</td>\n",
       "      <td>9085.00</td>\n",
       "      <td>9202.20</td>\n",
       "      <td>9200.55</td>\n",
       "      <td>465479.0</td>\n",
       "      <td>42757.42</td>\n",
       "    </tr>\n",
       "    <tr>\n",
       "      <th>2</th>\n",
       "      <td>2018-08-14</td>\n",
       "      <td>9079.00</td>\n",
       "      <td>9158.80</td>\n",
       "      <td>9046.25</td>\n",
       "      <td>9135.00</td>\n",
       "      <td>9132.60</td>\n",
       "      <td>344056.0</td>\n",
       "      <td>31355.62</td>\n",
       "    </tr>\n",
       "    <tr>\n",
       "      <th>3</th>\n",
       "      <td>2018-08-13</td>\n",
       "      <td>9119.45</td>\n",
       "      <td>9185.00</td>\n",
       "      <td>9012.20</td>\n",
       "      <td>9107.00</td>\n",
       "      <td>9080.85</td>\n",
       "      <td>348201.0</td>\n",
       "      <td>31750.75</td>\n",
       "    </tr>\n",
       "    <tr>\n",
       "      <th>4</th>\n",
       "      <td>2018-08-10</td>\n",
       "      <td>9150.00</td>\n",
       "      <td>9210.00</td>\n",
       "      <td>9105.00</td>\n",
       "      <td>9119.90</td>\n",
       "      <td>9148.25</td>\n",
       "      <td>427827.0</td>\n",
       "      <td>39190.31</td>\n",
       "    </tr>\n",
       "  </tbody>\n",
       "</table>\n",
       "</div>"
      ],
      "text/plain": [
       "         Date     Open     High      Low     Last    Close  \\\n",
       "0  2018-08-17  9243.00  9286.50  9130.00  9149.95  9152.10   \n",
       "1  2018-08-16  9124.00  9235.95  9085.00  9202.20  9200.55   \n",
       "2  2018-08-14  9079.00  9158.80  9046.25  9135.00  9132.60   \n",
       "3  2018-08-13  9119.45  9185.00  9012.20  9107.00  9080.85   \n",
       "4  2018-08-10  9150.00  9210.00  9105.00  9119.90  9148.25   \n",
       "\n",
       "   Total Trade Quantity  Turnover (Lacs)  \n",
       "0              477538.0         44002.98  \n",
       "1              465479.0         42757.42  \n",
       "2              344056.0         31355.62  \n",
       "3              348201.0         31750.75  \n",
       "4              427827.0         39190.31  "
      ]
     },
     "execution_count": 2,
     "metadata": {},
     "output_type": "execute_result"
    }
   ],
   "source": [
    "df = pd.read_csv(r\"C:\\Users\\Kamal Dev Sharma\\testdirec\\sentdex practice\\NSE-MARUTI.csv\") #we use 'r' for raw string\n",
    "df.head()"
   ]
  },
  {
   "cell_type": "code",
   "execution_count": 3,
   "metadata": {},
   "outputs": [
    {
     "data": {
      "text/plain": [
       "Date                    datetime64[ns]\n",
       "Open                           float64\n",
       "High                           float64\n",
       "Low                            float64\n",
       "Last                           float64\n",
       "Close                          float64\n",
       "Total Trade Quantity           float64\n",
       "Turnover (Lacs)                float64\n",
       "dtype: object"
      ]
     },
     "execution_count": 3,
     "metadata": {},
     "output_type": "execute_result"
    }
   ],
   "source": [
    "df.Date = pd.to_datetime(df.Date, format='%Y/%m/%d')\n",
    "df.dtypes"
   ]
  },
  {
   "cell_type": "code",
   "execution_count": 4,
   "metadata": {},
   "outputs": [
    {
     "data": {
      "text/html": [
       "<div>\n",
       "<style scoped>\n",
       "    .dataframe tbody tr th:only-of-type {\n",
       "        vertical-align: middle;\n",
       "    }\n",
       "\n",
       "    .dataframe tbody tr th {\n",
       "        vertical-align: top;\n",
       "    }\n",
       "\n",
       "    .dataframe thead th {\n",
       "        text-align: right;\n",
       "    }\n",
       "</style>\n",
       "<table border=\"1\" class=\"dataframe\">\n",
       "  <thead>\n",
       "    <tr style=\"text-align: right;\">\n",
       "      <th></th>\n",
       "      <th>Open</th>\n",
       "      <th>High</th>\n",
       "      <th>Low</th>\n",
       "      <th>Last</th>\n",
       "      <th>Close</th>\n",
       "      <th>Total Trade Quantity</th>\n",
       "      <th>Turnover (Lacs)</th>\n",
       "    </tr>\n",
       "    <tr>\n",
       "      <th>Date</th>\n",
       "      <th></th>\n",
       "      <th></th>\n",
       "      <th></th>\n",
       "      <th></th>\n",
       "      <th></th>\n",
       "      <th></th>\n",
       "      <th></th>\n",
       "    </tr>\n",
       "  </thead>\n",
       "  <tbody>\n",
       "    <tr>\n",
       "      <th>2018-08-17</th>\n",
       "      <td>9243.00</td>\n",
       "      <td>9286.50</td>\n",
       "      <td>9130.00</td>\n",
       "      <td>9149.95</td>\n",
       "      <td>9152.10</td>\n",
       "      <td>477538.0</td>\n",
       "      <td>44002.98</td>\n",
       "    </tr>\n",
       "    <tr>\n",
       "      <th>2018-08-16</th>\n",
       "      <td>9124.00</td>\n",
       "      <td>9235.95</td>\n",
       "      <td>9085.00</td>\n",
       "      <td>9202.20</td>\n",
       "      <td>9200.55</td>\n",
       "      <td>465479.0</td>\n",
       "      <td>42757.42</td>\n",
       "    </tr>\n",
       "    <tr>\n",
       "      <th>2018-08-14</th>\n",
       "      <td>9079.00</td>\n",
       "      <td>9158.80</td>\n",
       "      <td>9046.25</td>\n",
       "      <td>9135.00</td>\n",
       "      <td>9132.60</td>\n",
       "      <td>344056.0</td>\n",
       "      <td>31355.62</td>\n",
       "    </tr>\n",
       "    <tr>\n",
       "      <th>2018-08-13</th>\n",
       "      <td>9119.45</td>\n",
       "      <td>9185.00</td>\n",
       "      <td>9012.20</td>\n",
       "      <td>9107.00</td>\n",
       "      <td>9080.85</td>\n",
       "      <td>348201.0</td>\n",
       "      <td>31750.75</td>\n",
       "    </tr>\n",
       "    <tr>\n",
       "      <th>2018-08-10</th>\n",
       "      <td>9150.00</td>\n",
       "      <td>9210.00</td>\n",
       "      <td>9105.00</td>\n",
       "      <td>9119.90</td>\n",
       "      <td>9148.25</td>\n",
       "      <td>427827.0</td>\n",
       "      <td>39190.31</td>\n",
       "    </tr>\n",
       "  </tbody>\n",
       "</table>\n",
       "</div>"
      ],
      "text/plain": [
       "               Open     High      Low     Last    Close  Total Trade Quantity  \\\n",
       "Date                                                                            \n",
       "2018-08-17  9243.00  9286.50  9130.00  9149.95  9152.10              477538.0   \n",
       "2018-08-16  9124.00  9235.95  9085.00  9202.20  9200.55              465479.0   \n",
       "2018-08-14  9079.00  9158.80  9046.25  9135.00  9132.60              344056.0   \n",
       "2018-08-13  9119.45  9185.00  9012.20  9107.00  9080.85              348201.0   \n",
       "2018-08-10  9150.00  9210.00  9105.00  9119.90  9148.25              427827.0   \n",
       "\n",
       "            Turnover (Lacs)  \n",
       "Date                         \n",
       "2018-08-17         44002.98  \n",
       "2018-08-16         42757.42  \n",
       "2018-08-14         31355.62  \n",
       "2018-08-13         31750.75  \n",
       "2018-08-10         39190.31  "
      ]
     },
     "execution_count": 4,
     "metadata": {},
     "output_type": "execute_result"
    }
   ],
   "source": [
    "df.set_index('Date', inplace=True)\n",
    "df.head()"
   ]
  },
  {
   "cell_type": "code",
   "execution_count": 6,
   "metadata": {},
   "outputs": [
    {
     "data": {
      "text/html": [
       "<div>\n",
       "<style scoped>\n",
       "    .dataframe tbody tr th:only-of-type {\n",
       "        vertical-align: middle;\n",
       "    }\n",
       "\n",
       "    .dataframe tbody tr th {\n",
       "        vertical-align: top;\n",
       "    }\n",
       "\n",
       "    .dataframe thead th {\n",
       "        text-align: right;\n",
       "    }\n",
       "</style>\n",
       "<table border=\"1\" class=\"dataframe\">\n",
       "  <thead>\n",
       "    <tr style=\"text-align: right;\">\n",
       "      <th></th>\n",
       "      <th>Turnover (Lacs)</th>\n",
       "    </tr>\n",
       "    <tr>\n",
       "      <th>Date</th>\n",
       "      <th></th>\n",
       "    </tr>\n",
       "  </thead>\n",
       "  <tbody>\n",
       "    <tr>\n",
       "      <th>2018-08-17</th>\n",
       "      <td>44002.98</td>\n",
       "    </tr>\n",
       "    <tr>\n",
       "      <th>2018-08-16</th>\n",
       "      <td>42757.42</td>\n",
       "    </tr>\n",
       "    <tr>\n",
       "      <th>2018-08-14</th>\n",
       "      <td>31355.62</td>\n",
       "    </tr>\n",
       "    <tr>\n",
       "      <th>2018-08-13</th>\n",
       "      <td>31750.75</td>\n",
       "    </tr>\n",
       "    <tr>\n",
       "      <th>2018-08-10</th>\n",
       "      <td>39190.31</td>\n",
       "    </tr>\n",
       "  </tbody>\n",
       "</table>\n",
       "</div>"
      ],
      "text/plain": [
       "            Turnover (Lacs)\n",
       "Date                       \n",
       "2018-08-17         44002.98\n",
       "2018-08-16         42757.42\n",
       "2018-08-14         31355.62\n",
       "2018-08-13         31750.75\n",
       "2018-08-10         39190.31"
      ]
     },
     "execution_count": 6,
     "metadata": {},
     "output_type": "execute_result"
    }
   ],
   "source": [
    "turnover_values = df.loc[:, ['Turnover (Lacs)']]\n",
    "turnover_values.head()"
   ]
  },
  {
   "cell_type": "code",
   "execution_count": 7,
   "metadata": {},
   "outputs": [],
   "source": [
    "turnover_values.rename(columns={'Turnover (Lacs)':'turnover'},inplace=True)"
   ]
  },
  {
   "cell_type": "code",
   "execution_count": 8,
   "metadata": {},
   "outputs": [
    {
     "data": {
      "text/plain": [
       "{'boxes': [<matplotlib.lines.Line2D at 0x2645bcfdc88>],\n",
       " 'caps': [<matplotlib.lines.Line2D at 0x2645bd0f7b8>,\n",
       "  <matplotlib.lines.Line2D at 0x2645bd0fbe0>],\n",
       " 'fliers': [<matplotlib.lines.Line2D at 0x2645bd1d4a8>],\n",
       " 'means': [],\n",
       " 'medians': [<matplotlib.lines.Line2D at 0x2645bd1d048>],\n",
       " 'whiskers': [<matplotlib.lines.Line2D at 0x2645bcfde10>,\n",
       "  <matplotlib.lines.Line2D at 0x2645bd0f390>]}"
      ]
     },
     "execution_count": 8,
     "metadata": {},
     "output_type": "execute_result"
    },
    {
     "data": {
      "image/png": "[encoded data removed]",
      "text/plain": [
       "<Figure size 432x288 with 1 Axes>"
      ]
     },
     "metadata": {},
     "output_type": "display_data"
    }
   ],
   "source": [
    "plt.boxplot(turnover_values.turnover)"
   ]
  },
  {
   "cell_type": "code",
   "execution_count": 15,
   "metadata": {},
   "outputs": [],
   "source": [
    "outlier_index = turnover_values[turnover_values.turnover == turnover_values.turnover.max()].index\n",
    "turnover_values.drop(index = outlier_index, inplace=True)"
   ]
  },
  {
   "cell_type": "code",
   "execution_count": 16,
   "metadata": {},
   "outputs": [
    {
     "data": {
      "text/plain": [
       "{'boxes': [<matplotlib.lines.Line2D at 0x2645c40de10>],\n",
       " 'caps': [<matplotlib.lines.Line2D at 0x2645c41a860>,\n",
       "  <matplotlib.lines.Line2D at 0x2645c41ac88>],\n",
       " 'fliers': [<matplotlib.lines.Line2D at 0x2645c421550>],\n",
       " 'means': [],\n",
       " 'medians': [<matplotlib.lines.Line2D at 0x2645c4210f0>],\n",
       " 'whiskers': [<matplotlib.lines.Line2D at 0x2645c40df60>,\n",
       "  <matplotlib.lines.Line2D at 0x2645c41a438>]}"
      ]
     },
     "execution_count": 16,
     "metadata": {},
     "output_type": "execute_result"
    },
    {
     "data": {
      "image/png": "[encoded data removed]",
      "text/plain": [
       "<Figure size 432x288 with 1 Axes>"
      ]
     },
     "metadata": {},
     "output_type": "display_data"
    }
   ],
   "source": [
    "plt.boxplot(turnover_values.turnover)"
   ]
  },
  {
   "cell_type": "code",
   "execution_count": 17,
   "metadata": {},
   "outputs": [
    {
     "data": {
      "text/plain": [
       "<matplotlib.axes._subplots.AxesSubplot at 0x2645c42cda0>"
      ]
     },
     "execution_count": 17,
     "metadata": {},
     "output_type": "execute_result"
    },
    {
     "data": {
      "image/png": "[encoded data removed]",
      "text/plain": [
       "<Figure size 432x288 with 1 Axes>"
      ]
     },
     "metadata": {},
     "output_type": "display_data"
    }
   ],
   "source": [
    "from pandas.plotting import lag_plot\n",
    "lag_plot(turnover_values.turnover)"
   ]
  },
  {
   "cell_type": "code",
   "execution_count": 18,
   "metadata": {},
   "outputs": [
    {
     "data": {
      "text/html": [
       "<div>\n",
       "<style scoped>\n",
       "    .dataframe tbody tr th:only-of-type {\n",
       "        vertical-align: middle;\n",
       "    }\n",
       "\n",
       "    .dataframe tbody tr th {\n",
       "        vertical-align: top;\n",
       "    }\n",
       "\n",
       "    .dataframe thead th {\n",
       "        text-align: right;\n",
       "    }\n",
       "</style>\n",
       "<table border=\"1\" class=\"dataframe\">\n",
       "  <thead>\n",
       "    <tr style=\"text-align: right;\">\n",
       "      <th></th>\n",
       "      <th>t+1</th>\n",
       "      <th>t</th>\n",
       "    </tr>\n",
       "  </thead>\n",
       "  <tbody>\n",
       "    <tr>\n",
       "      <th>t+1</th>\n",
       "      <td>1.000000</td>\n",
       "      <td>0.741275</td>\n",
       "    </tr>\n",
       "    <tr>\n",
       "      <th>t</th>\n",
       "      <td>0.741275</td>\n",
       "      <td>1.000000</td>\n",
       "    </tr>\n",
       "  </tbody>\n",
       "</table>\n",
       "</div>"
      ],
      "text/plain": [
       "          t+1         t\n",
       "t+1  1.000000  0.741275\n",
       "t    0.741275  1.000000"
      ]
     },
     "execution_count": 18,
     "metadata": {},
     "output_type": "execute_result"
    }
   ],
   "source": [
    "values = pd.DataFrame(turnover_values.turnover)\n",
    "df_consequtive_values = pd.concat([values.shift(1), values], axis=1)\n",
    "df_consequtive_values.columns = ['t+1', 't']\n",
    "df_consequtive_values.corr()"
   ]
  },
  {
   "cell_type": "code",
   "execution_count": 19,
   "metadata": {},
   "outputs": [
    {
     "data": {
      "text/plain": [
       "<matplotlib.axes._subplots.AxesSubplot at 0x2645c4a1b70>"
      ]
     },
     "execution_count": 19,
     "metadata": {},
     "output_type": "execute_result"
    },
    {
     "data": {
      "image/png": "[encoded data removed]",
      "text/plain": [
       "<Figure size 432x288 with 1 Axes>"
      ]
     },
     "metadata": {},
     "output_type": "display_data"
    }
   ],
   "source": [
    "%matplotlib inline\n",
    "from pandas.plotting import autocorrelation_plot\n",
    "autocorrelation_plot(turnover_values.turnover)"
   ]
  },
  {
   "cell_type": "markdown",
   "metadata": {},
   "source": [
    "#### Description of a lag plot\n",
    "The horizontal axis of an autocorrelation plot\n",
    "shows the size of the lag between the elements of the time series.\n",
    "For example, the autocorrelation with lag 2 is the correlation between the time series\n",
    "elements and the corresponding elements that were observed two time periods earlier"
   ]
  },
  {
   "cell_type": "code",
   "execution_count": 20,
   "metadata": {},
   "outputs": [
    {
     "data": {
      "image/png": "[encoded data removed]",
      "text/plain": [
       "<Figure size 432x288 with 1 Axes>"
      ]
     },
     "execution_count": 20,
     "metadata": {},
     "output_type": "execute_result"
    },
    {
     "data": {
      "image/png": "[encoded data removed]",
      "text/plain": [
       "<Figure size 432x288 with 1 Axes>"
      ]
     },
     "metadata": {},
     "output_type": "display_data"
    }
   ],
   "source": [
    "from statsmodels.graphics.tsaplots import plot_acf\n",
    "plot_acf(turnover_values.turnover, lags=30)"
   ]
  },
  {
   "cell_type": "code",
   "execution_count": 28,
   "metadata": {},
   "outputs": [
    {
     "data": {
      "text/html": [
       "<div>\n",
       "<style scoped>\n",
       "    .dataframe tbody tr th:only-of-type {\n",
       "        vertical-align: middle;\n",
       "    }\n",
       "\n",
       "    .dataframe tbody tr th {\n",
       "        vertical-align: top;\n",
       "    }\n",
       "\n",
       "    .dataframe thead th {\n",
       "        text-align: right;\n",
       "    }\n",
       "</style>\n",
       "<table border=\"1\" class=\"dataframe\">\n",
       "  <thead>\n",
       "    <tr style=\"text-align: right;\">\n",
       "      <th></th>\n",
       "      <th>turnover</th>\n",
       "    </tr>\n",
       "    <tr>\n",
       "      <th>Date</th>\n",
       "      <th></th>\n",
       "    </tr>\n",
       "  </thead>\n",
       "  <tbody>\n",
       "    <tr>\n",
       "      <th>2018-08-17</th>\n",
       "      <td>44002.98</td>\n",
       "    </tr>\n",
       "    <tr>\n",
       "      <th>2018-08-16</th>\n",
       "      <td>42757.42</td>\n",
       "    </tr>\n",
       "    <tr>\n",
       "      <th>2018-08-14</th>\n",
       "      <td>31355.62</td>\n",
       "    </tr>\n",
       "    <tr>\n",
       "      <th>2018-08-13</th>\n",
       "      <td>31750.75</td>\n",
       "    </tr>\n",
       "    <tr>\n",
       "      <th>2018-08-10</th>\n",
       "      <td>39190.31</td>\n",
       "    </tr>\n",
       "  </tbody>\n",
       "</table>\n",
       "</div>"
      ],
      "text/plain": [
       "            turnover\n",
       "Date                \n",
       "2018-08-17  44002.98\n",
       "2018-08-16  42757.42\n",
       "2018-08-14  31355.62\n",
       "2018-08-13  31750.75\n",
       "2018-08-10  39190.31"
      ]
     },
     "execution_count": 28,
     "metadata": {},
     "output_type": "execute_result"
    }
   ],
   "source": [
    "turnover_values.head()"
   ]
  },
  {
   "cell_type": "code",
   "execution_count": 89,
   "metadata": {},
   "outputs": [
    {
     "name": "stdout",
     "output_type": "stream",
     "text": [
      "MSE: 256700819.416\n"
     ]
    },
    {
     "data": {
      "text/plain": [
       "[<matplotlib.lines.Line2D at 0x2645ec29ba8>]"
      ]
     },
     "execution_count": 89,
     "metadata": {},
     "output_type": "execute_result"
    },
    {
     "data": {
      "image/png": "[encoded data removed]",
      "text/plain": [
       "<Figure size 432x288 with 1 Axes>"
      ]
     },
     "metadata": {},
     "output_type": "display_data"
    }
   ],
   "source": [
    "df = pd.concat([turnover_values.shift(1), turnover_values], axis=1)\n",
    "df.columns = ['t-1', 't']\n",
    "df['t-1'].iloc[0] = 0\n",
    "X = df.values\n",
    "train, test = X[1:len(X)-7], X[len(X) -7:]\n",
    "train_X, train_Y = train[:,0], train[:,1]\n",
    "test_X, test_Y = test[:,0], test[:,1]\n",
    "\n",
    "# persistence model: simple past values will be persisting\n",
    "def persistence_model(x):\n",
    "    return x\n",
    "\n",
    "# walk forwarad validation\n",
    "prediction = list()\n",
    "for x in test_X:\n",
    "    yhat = persistence_model(x)\n",
    "    prediction.append(yhat)\n",
    "\n",
    "test_score = mean_squared_error(test_Y, prediction)\n",
    "print('MSE: %.3f' % test_score)\n",
    "plt.plot(test_Y)\n",
    "plt.plot(prediction, color='red')"
   ]
  },
  {
   "cell_type": "code",
   "execution_count": 90,
   "metadata": {},
   "outputs": [],
   "source": [
    "# removing the outlier and normalizig the values in range\n",
    "prediction.pop()\n",
    "prediction_test = np.array(prediction)/1000\n",
    "test_y = test_Y[:-1]/1000"
   ]
  },
  {
   "cell_type": "code",
   "execution_count": 91,
   "metadata": {},
   "outputs": [
    {
     "name": "stdout",
     "output_type": "stream",
     "text": [
      "MSE: 20.586\n",
      "[  6.69303   6.6757   10.92001  10.64313  20.24622  17.4482 ]\n"
     ]
    },
    {
     "data": {
      "image/png": "[encoded data removed]",
      "text/plain": [
       "<Figure size 432x288 with 1 Axes>"
      ]
     },
     "metadata": {},
     "output_type": "display_data"
    }
   ],
   "source": [
    "test_score = mean_squared_error(test_y, prediction_test)\n",
    "print('MSE: %.3f' % test_score)\n",
    "plt.plot(test_y)\n",
    "plt.plot(prediction_test, color='red')\n",
    "print(test_y)"
   ]
  }
 ],
 "metadata": {
  "kernelspec": {
   "display_name": "Python 3",
   "language": "python",
   "name": "python3"
  },
  "language_info": {
   "codemirror_mode": {
    "name": "ipython",
    "version": 3
   },
   "file_extension": ".py",
   "mimetype": "text/x-python",
   "name": "python",
   "nbconvert_exporter": "python",
   "pygments_lexer": "ipython3",
   "version": "3.6.4"
  }
 },
 "nbformat": 4,
 "nbformat_minor": 2
}
